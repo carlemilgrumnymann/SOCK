{
 "cells": [
  {
   "cell_type": "markdown",
   "metadata": {},
   "source": [
    "# Agent-based modelling"
   ]
  },
  {
   "cell_type": "code",
   "execution_count": null,
   "metadata": {},
   "outputs": [],
   "source": [
    "!pip install matplotlib #also installs numpy \n",
    "!pip install pandas\n",
    "!pip install seaborn\n",
    "!pip install scipy"
   ]
  },
  {
   "cell_type": "code",
   "execution_count": null,
   "metadata": {},
   "outputs": [],
   "source": [
    "from ABM_functions import *\n",
    "from helper_functions import *\n",
    "import pandas as pd"
   ]
  },
  {
   "cell_type": "markdown",
   "metadata": {},
   "source": [
    "#### Setting up parameters"
   ]
  },
  {
   "cell_type": "code",
   "execution_count": null,
   "metadata": {},
   "outputs": [],
   "source": [
    "company_titles = ['Level 1', 'Level 2', 'Level 3', 'Level 4', 'Level 5', 'Level 6'] # job titles for agents in company\n",
    "n = 100\n",
    "#titles_n = [n, n*4**1, n*4**2, n*4**3,  n*4**4,  n*4**4] # number of agents in each job title\n",
    "\n",
    "titles_n = [n, n*2, n*2*2, n*2**3,  n*2**3*3,  n*2**4*6] # number of agents in each job title\n",
    "\n",
    "\n",
    "#titles_n = [10, 50, 150, 500,  2500,  6700] # number of agents in each job title\n",
    "\n",
    "# weights for generating agents (populating company + new agents at the lowest level)\n",
    "# possibly create a function for this?\n",
    "\n",
    "fire_prob=0.011\n",
    "\n",
    "weights = {\n",
    "    'Level 1':{\n",
    "        'weights': [0.79, 0.21], # first weight is male, second is female\n",
    "        'age': [56, 5], # mean and standard deviation for random.gauss function\n",
    "        'seniority': [8, 2], # mean and standard deviation for random.gauss function\n",
    "        'fire': [fire_prob, 1-fire_prob], # first is weight of being fired, second is weight of not being fired\n",
    "        'seniority_position': [3, 1], # first is true, second is false\n",
    "        'skills': [200, 20], # skills at this level, mean and sd\n",
    "        'candidates': 10}, # number of candidates to be considered for promotion to this level\n",
    "    'Level 2':{\n",
    "        'weights': [0.78, 0.22], \n",
    "        'age': [52, 5],\n",
    "        'seniority': [7, 2],\n",
    "        'fire': [fire_prob, 1-fire_prob],\n",
    "        'seniority_position': [3, 1],\n",
    "        'skills': [200, 20],\n",
    "        'candidates': 10},\n",
    "    'Level 3':{\n",
    "        'weights': [0.71, 0.29],\n",
    "        'age': [52, 8],\n",
    "        'seniority': [6, 2],\n",
    "        'fire': [fire_prob, 1-fire_prob],\n",
    "        'seniority_position': [3, 1],\n",
    "        'skills': [200, 20],\n",
    "        'candidates': 10},\n",
    "    'Level 4':{\n",
    "        'weights': [0.67, 0.33], \n",
    "        'age': [44, 8],\n",
    "        'seniority': [5, 2],\n",
    "        'fire': [fire_prob, 1-fire_prob],\n",
    "        'seniority_position': [3, 1],\n",
    "        'skills': [200, 20],\n",
    "        'candidates': 10}, \n",
    "    'Level 5':{\n",
    "        'weights': [0.63, 0.37],\n",
    "        'age': [44, 8],\n",
    "        'seniority': [4, 1],\n",
    "        'fire': [fire_prob, 1-fire_prob],\n",
    "        'seniority_position': [3, 1],\n",
    "        'skills': [200, 20],\n",
    "        'candidates': 10},\n",
    "    'Level 6':{\n",
    "        'weights': [0.52, 0.48], \n",
    "        'age': [30, 8],\n",
    "        'seniority':[3, 1],\n",
    "        'fire': [fire_prob, 1-fire_prob],\n",
    "        'seniority_position': [3, 1],\n",
    "        'skills': [200, 20]}\n",
    "    }\n"
   ]
  },
  {
   "cell_type": "markdown",
   "metadata": {},
   "source": [
    "## Skill"
   ]
  },
  {
   "cell_type": "code",
   "execution_count": null,
   "metadata": {},
   "outputs": [],
   "source": [
    "run_abm(months = 10*12,\n",
    "            save_path = 'da.csv',\n",
    "            company_titles = company_titles, # the job titles in the company\n",
    "            titles_n = titles_n, # the number of employees with each of the titles\n",
    "            weights = weights_intervention, # the weights for generating agents\n",
    "            bias_scaler = 2.7*1e-5, # the scaler for the bias calculated (negative = positive bias towards women, positive = positive bias towards men)\n",
    "            diversity_bias_scaler = 0,\n",
    "            threshold = [0.30, 0.40, 0.40, 0.45, 0.45, 0.50],\n",
    "            months_pl = 12,\n",
    "            plot_each_tick = True)"
   ]
  },
  {
   "cell_type": "code",
   "execution_count": null,
   "metadata": {},
   "outputs": [],
   "source": [
    "run_abm(months = 10*12,\n",
    "            save_path = 'da.csv',\n",
    "            company_titles = company_titles, # the job titles in the company\n",
    "            titles_n = titles_n, # the number of employees with each of the titles\n",
    "            weights = weights_intervention, # the weights for generating agents\n",
    "            bias_scaler = 2.7*1e-5, # the scaler for the bias calculated (negative = positive bias towards women, positive = positive bias towards men)\n",
    "            diversity_bias_scaler = 0,\n",
    "            threshold = [0.30, 0.40, 0.40, 0.45, 0.45, 0.50],\n",
    "            months_pl = 12,\n",
    "            intervention = 'shared_parental',\n",
    "            plot_each_tick = True)"
   ]
  },
  {
   "cell_type": "code",
   "execution_count": null,
   "metadata": {},
   "outputs": [],
   "source": [
    "run_abm(months = 10*12,\n",
    "            save_path = 'da.csv',\n",
    "            company_titles = company_titles, # the job titles in the company\n",
    "            titles_n = titles_n, # the number of employees with each of the titles\n",
    "            weights = weights, # the weights for generating agents\n",
    "            bias_scaler = 2.7*1e-5, # the scaler for the bias calculated (negative = positive bias towards women, positive = positive bias towards men)\n",
    "            diversity_bias_scaler = 0,\n",
    "            threshold = [0.30, 0.40, 0.40, 0.45, 0.45, 0.50],\n",
    "            months_pl = 12,\n",
    "            plot_each_tick = True)"
   ]
  },
  {
   "cell_type": "markdown",
   "metadata": {},
   "source": [
    "## Running the agent-based model for the period we have data for"
   ]
  },
  {
   "cell_type": "code",
   "execution_count": null,
   "metadata": {},
   "outputs": [],
   "source": [
    "namelist = ['data/data.csv', 'data1/data.csv', 'data2/data.csv', 'data3/data.csv', 'data4/data.csv', 'data5/data.csv', 'data6/data.csv', 'data7/data.csv', 'data8/data.csv']\n",
    "\n",
    "for i in namelist:\n",
    "        run_abm(months = 84,\n",
    "                save_path = i,\n",
    "                company_titles = company_titles, # the job titles in the company\n",
    "                titles_n = titles_n, # the number of employees with each of the titles\n",
    "                weights = weights, # the weights for generating agents\n",
    "                bias_scaler = 2.7*1e-5, # the scaler for the bias calculated (negative = positive bias towards women, positive = positive bias towards men)\n",
    "                diversity_bias_scaler = 0,\n",
    "                threshold = [0.3, 0.3, 0.3, 0, 0, 0],\n",
    "                months_pl = 12,\n",
    "                plot_each_tick = False)"
   ]
  },
  {
   "cell_type": "markdown",
   "metadata": {},
   "source": [
    "## Interventions"
   ]
  },
  {
   "cell_type": "code",
   "execution_count": null,
   "metadata": {},
   "outputs": [],
   "source": [
    "# reading in the company as is after the simulation of the time we have data for\n",
    "company_validated = pd.read_pickle('data/company.pkl')"
   ]
  },
  {
   "cell_type": "code",
   "execution_count": null,
   "metadata": {},
   "outputs": [],
   "source": [
    "weights_intervention = {\n",
    "    'Level 1':{\n",
    "        'weights': [0.72, 0.28], # first weight is male, second is female\n",
    "        'age': [56, 5], # mean and standard deviation for random.gauss function\n",
    "        'seniority': [8, 2], # mean and standard deviation for random.gauss function\n",
    "        'fire': [fire_prob, 1-fire_prob], # first is weight of being fired, second is weight of not being fired\n",
    "        'seniority_position': [3, 1], # first is true, second is false\n",
    "        'skills': [200, 20], # skills at this level, mean and sd\n",
    "        'candidates': 10}, # number of candidates to be considered for promotion to this level\n",
    "    'Level 2':{\n",
    "        'weights': [0.72, 0.28], \n",
    "        'age': [52, 5],\n",
    "        'seniority': [7, 2],\n",
    "        'fire': [fire_prob, 1-fire_prob],\n",
    "        'seniority_position': [3, 1],\n",
    "        'skills': [200, 20],\n",
    "        'candidates': 10},\n",
    "    'Level 3':{\n",
    "        'weights': [0.67, 0.33],\n",
    "        'age': [52, 8],\n",
    "        'seniority': [6, 2],\n",
    "        'fire': [fire_prob, 1-fire_prob],\n",
    "        'seniority_position': [3, 1],\n",
    "        'skills': [200, 20],\n",
    "        'candidates': 10},\n",
    "    'Level 4':{\n",
    "        'weights': [0.63, 0.37], \n",
    "        'age': [44, 8],\n",
    "        'seniority': [5, 2],\n",
    "        'fire': [fire_prob, 1-fire_prob],\n",
    "        'seniority_position': [3, 1],\n",
    "        'skills': [200, 20],\n",
    "        'candidates': 10}, \n",
    "    'Level 5':{\n",
    "        'weights': [0.60, 0.40],\n",
    "        'age': [44, 8],\n",
    "        'seniority': [4, 1],\n",
    "        'fire': [fire_prob, 1-fire_prob],\n",
    "        'seniority_position': [3, 1],\n",
    "        'skills': [200, 20],\n",
    "        'candidates': 10},\n",
    "    'Level 6':{\n",
    "        'weights': [0.52, 0.48], \n",
    "        'age': [30, 8],\n",
    "        'seniority':[3, 1],\n",
    "        'fire': [fire_prob, 1-fire_prob],\n",
    "        'seniority_position': [3, 1],\n",
    "        'skills': [200, 20]}\n",
    "    }\n"
   ]
  },
  {
   "cell_type": "markdown",
   "metadata": {},
   "source": [
    "#### Quota"
   ]
  },
  {
   "cell_type": "code",
   "execution_count": null,
   "metadata": {},
   "outputs": [],
   "source": [
    "namelist = ['data/data_quota.csv', 'data1/data_quota.csv', 'data2/data_quota.csv', 'data3/data_quota.csv', 'data4/data_quota.csv', 'data5/data_quota.csv', 'data6/data_quota.csv', 'data7/data_quota.csv','data8/data_quota.csv' ]\n",
    "\n",
    "for i in namelist:\n",
    "        run_abm(months = 10*12,\n",
    "                save_path = i,\n",
    "                company_titles = company_titles, # the job titles in the company\n",
    "                titles_n = titles_n, # the number of employees with each of the titles\n",
    "                weights = weights_intervention, # the weights for generating agents\n",
    "                bias_scaler = 2.7*1e-5, # the scaler for the bias calculated (negative = positive bias towards women, positive = positive bias towards men)\n",
    "                diversity_bias_scaler = 0,\n",
    "                threshold = [0.30, 0.40, 0.40, 0.45, 0.45, 0.50],\n",
    "                months_pl = 12,\n",
    "                plot_each_tick = False,\n",
    "                intervention = 'quota_list'\n",
    "                )"
   ]
  },
  {
   "cell_type": "code",
   "execution_count": null,
   "metadata": {},
   "outputs": [],
   "source": [
    "run_abm(months = 10*12,\n",
    "            save_path = i,\n",
    "            company_titles = company_titles, # the job titles in the company\n",
    "            titles_n = titles_n, # the number of employees with each of the titles\n",
    "            weights = weights_intervention, # the weights for generating agents\n",
    "            bias_scaler = 2.7*1e-5, # the scaler for the bias calculated (negative = positive bias towards women, positive = positive bias towards men)\n",
    "            diversity_bias_scaler = 0,\n",
    "            threshold = [0.30, 0.40, 0.40, 0.45, 0.45, 0.50],\n",
    "            months_pl = 12,\n",
    "            plot_each_tick = True,\n",
    "            intervention = 'quota_list'\n",
    "            )"
   ]
  },
  {
   "cell_type": "markdown",
   "metadata": {},
   "source": [
    "### Blinding\n",
    "The bias added before choosing the candidates in the other simulations are removed. Instead the bias is added after the shortlist has been made."
   ]
  },
  {
   "cell_type": "code",
   "execution_count": null,
   "metadata": {},
   "outputs": [],
   "source": [
    "namelist = ['data/data_blinding.csv', 'data1/data_blinding.csv', 'data2/data_blinding.csv', 'data3/data_blinding.csv', 'data4/data_blinding.csv', 'data5/data_blinding.csv','data6/data_blinding.csv', 'data7/data_blinding.csv', 'data8/data_blinding.csv']\n",
    "\n",
    "for i in namelist:\n",
    "        run_abm(months = 10*12,\n",
    "                save_path = i,\n",
    "                company_titles = company_titles, # the job titles in the company\n",
    "                titles_n = titles_n, # the number of employees with each of the titles\n",
    "                weights = weights_intervention, # the weights for generating agents\n",
    "                bias_scaler = 2.7*1e-5, # the scaler for the bias calculated (negative = positive bias towards women, positive = positive bias towards men)\n",
    "                diversity_bias_scaler = 0,\n",
    "                threshold = [0.30, 0.40, 0.40, 0.45, 0.45, 0.50],\n",
    "                months_pl = 12,\n",
    "                plot_each_tick = False,\n",
    "                intervention = 'blinding'\n",
    "                )\n"
   ]
  },
  {
   "cell_type": "code",
   "execution_count": null,
   "metadata": {},
   "outputs": [],
   "source": [
    "run_abm(months = 10*12,\n",
    "        save_path='data/data_blinding_no_pl.csv', # the path for saving the data\n",
    "        company_titles = company_titles, # the job titles in the company\n",
    "        titles_n = titles_n, # the number of employees with each of the titles\n",
    "        weights = weights_intervention, # the weights for generating agents\n",
    "        bias_scaler = 2.7*1e-5, # the scaler for the bias calculated (negative = positive bias towards women, positive = positive bias towards men)\n",
    "        diversity_bias_scaler = 0,\n",
    "        threshold = [0.30, 0.40, 0.40, 0.45, 0.45, 0.50],\n",
    "        plot_each_tick = True,\n",
    "        intervention = 'blinding',\n",
    "        months_pl = 12,\n",
    ")\n",
    "#        company = company_validated"
   ]
  },
  {
   "cell_type": "markdown",
   "metadata": {},
   "source": [
    "## Parental leave"
   ]
  },
  {
   "cell_type": "code",
   "execution_count": null,
   "metadata": {},
   "outputs": [],
   "source": [
    "#Running the 9 simulations used as data\n",
    "namelist = ['data/data_shared_parental.csv', 'data1/data_shared_parental.csv', 'data2/data_shared_parental.csv', 'data3/data_shared_parental.csv', 'data4/data_shared_parental.csv', 'data5/data_shared_parental.csv', 'data6/data_shared_parental.csv', 'data7/data_shared_parental.csv', 'data8/data_shared_parental.csv']\n",
    "\n",
    "for i in namelist:\n",
    "        run_abm(months = 10*12,\n",
    "                save_path = i,\n",
    "                company_titles = company_titles, # the job titles in the company\n",
    "                titles_n = titles_n, # the number of employees with each of the titles\n",
    "                weights = weights_intervention, # the weights for generating agents\n",
    "                bias_scaler = 2.7*1e-5, # the scaler for the bias calculated (negative = positive bias towards women, positive = positive bias towards men)\n",
    "                diversity_bias_scaler = 0,\n",
    "                threshold = [0.30, 0.40, 0.40, 0.45, 0.45, 0.50],\n",
    "                months_pl = 6,\n",
    "                plot_each_tick = False,\n",
    "                intervention = 'shared_parental'\n",
    "                )\n"
   ]
  },
  {
   "cell_type": "code",
   "execution_count": null,
   "metadata": {},
   "outputs": [],
   "source": [
    "#running and plotting each tick to check the mechanism - also plots skill development\n",
    "run_abm(months = 10*12,\n",
    "        save_path = 'data_a.csv',\n",
    "        company_titles = company_titles, # the job titles in the company\n",
    "        titles_n = titles_n, # the number of employees with each of the titles\n",
    "        weights = weights_intervention, # the weights for generating agents\n",
    "        bias_scaler = 2.7*1e-5, # the scaler for the bias calculated (negative = positive bias towards women, positive = positive bias towards men)\n",
    "        diversity_bias_scaler = 0,\n",
    "        threshold = [0.30, 0.40, 0.40, 0.45, 0.45, 0.50],\n",
    "        months_pl = 6,\n",
    "        plot_each_tick = True,\n",
    "        intervention = 'shared_parental'\n",
    "        )"
   ]
  },
  {
   "cell_type": "markdown",
   "metadata": {},
   "source": [
    "# No interventions\n"
   ]
  },
  {
   "cell_type": "code",
   "execution_count": null,
   "metadata": {},
   "outputs": [],
   "source": [
    "# running the 9 simulations used as data\n",
    "namelist = ['data/data_no_int.csv', 'data1/data_no_int.csv', 'data2/data_no_int.csv', 'data3/data_no_int.csv', 'data4/data_no_int.csv', 'data5/data_no_int.csv', 'data6/data_no_int.csv', 'data7/data_no_int.csv', 'data8/data_no_int.csv']\n",
    "\n",
    "for i in namelist:\n",
    "        run_abm(months = 10*12,\n",
    "                save_path = i,\n",
    "                company_titles = company_titles, # the job titles in the company\n",
    "                titles_n = titles_n, # the number of employees with each of the titles\n",
    "                weights = weights_intervention, # the weights for generating agents\n",
    "                bias_scaler = 2.7*1e-5, # the scaler for the bias calculated (negative = positive bias towards women, positive = positive bias towards men)\n",
    "                diversity_bias_scaler = 0,\n",
    "                threshold = [0.30, 0.40, 0.40, 0.45, 0.45, 0.50],\n",
    "                months_pl = 12,\n",
    "                plot_each_tick = False,\n",
    "                intervention = None\n",
    "                )\n",
    "\n"
   ]
  },
  {
   "cell_type": "code",
   "execution_count": null,
   "metadata": {},
   "outputs": [],
   "source": [
    "# Running a single simulation to test its workings, plotting each tick, whoch also plots skill\n",
    "run_abm(months = 10*12,\n",
    "        save_path='data/data_no_intervention_no_pl.csv', # the path for saving the data\n",
    "        company_titles = company_titles, # the job titles in the company\n",
    "        titles_n = titles_n, # the number of employees with each of the titles\n",
    "        weights = weights_intervention, # the weights for generating agents\n",
    "        bias_scaler = 2.7*1e-5, # the scaler for the bias calculated (negative = positive bias towards women, positive = positive bias towards men)\n",
    "        diversity_bias_scaler = 0,\n",
    "        threshold = [0.30, 0.40, 0.40, 0.45, 0.45, 0.50],\n",
    "        plot_each_tick = True,\n",
    "        intervention = None,\n",
    "        months_pl = 12,\n",
    ")"
   ]
  }
 ],
 "metadata": {
  "kernelspec": {
   "display_name": "Python 3",
   "language": "python",
   "name": "python3"
  },
  "language_info": {
   "codemirror_mode": {
    "name": "ipython",
    "version": 3
   },
   "file_extension": ".py",
   "mimetype": "text/x-python",
   "name": "python",
   "nbconvert_exporter": "python",
   "pygments_lexer": "ipython3",
   "version": "3.10.12"
  },
  "orig_nbformat": 4
 },
 "nbformat": 4,
 "nbformat_minor": 2
}
